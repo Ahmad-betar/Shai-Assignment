{
 "cells": [
  {
   "cell_type": "markdown",
   "metadata": {
    "id": "9veqgG-LVKd3"
   },
   "source": [
    "\n",
    "\n",
    "\n",
    "\n",
    "\n",
    "About Dataset\n",
    "salaries dataset generally provides information about the employees of an organization in relation to their compensation. It typically includes details such as how much each employee is paid (their salary), their job titles, the departments they work in, and possibly additional information like their level of experience, education, and employment history within the organization.!"
   ]
  },
  {
   "cell_type": "markdown",
   "metadata": {
    "id": "cZwHdpBfVzOh",
    "jp-MarkdownHeadingCollapsed": true
   },
   "source": [
    "# Features\n",
    "- 'Id'\n",
    "- 'EmployeeName'\n",
    "- 'JobTitle'\n",
    "- 'BasePay'\n",
    "- 'OvertimePay'\n",
    "- 'OtherPay'\n",
    "- 'Benefits'\n",
    "- 'TotalPay' -> salary\n",
    "- 'TotalPayBenefits'\n",
    "- 'Year'\n",
    "- 'Notes'\n",
    "- 'Agency'\n",
    "- 'Status'\n"
   ]
  },
  {
   "cell_type": "markdown",
   "metadata": {
    "id": "X1VJposzVrSF",
    "jp-MarkdownHeadingCollapsed": true
   },
   "source": [
    "# Tasks\n",
    "\n",
    "1. **Basic Data Exploration**: Identify the number of rows and columns in the dataset, determine the data types of each column, and check for missing values in each column.\n",
    "\n",
    "2. **Descriptive Statistics**: Calculate basic statistics mean, median, mode, minimum, and maximum salary, determine the range of salaries, and find the standard deviation.\n",
    "\n",
    "3. **Data Cleaning**: Handle missing data by suitable method with explain why you use it.\n",
    "\n",
    "4. **Basic Data Visualization**: Create histograms or bar charts to visualize the distribution of salaries, and use pie charts to represent the proportion of employees in different departments.\n",
    "\n",
    "5. **Grouped Analysis**: Group the data by one or more columns and calculate summary statistics for each group, and compare the average salaries across different groups.\n",
    "\n",
    "6. **Simple Correlation Analysis**: Identify any correlation between salary and another numerical column, and plot a scatter plot to visualize the relationship.\n",
    "\n",
    "8. **Summary of Insights**: Write a brief report summarizing the findings and insights from the analyses."
   ]
  },
  {
   "cell_type": "markdown",
   "metadata": {
    "id": "8_rNdHiGUT6A"
   },
   "source": [
    "# Very Important Note\n",
    "There is no fixed or singular solution for this assignment, so if anything is not clear, please do what you understand and provide an explanation."
   ]
  },
  {
   "cell_type": "code",
   "execution_count": 1,
   "metadata": {
    "colab": {
     "base_uri": "https://localhost:8080/",
     "height": 486
    },
    "id": "KmZfk5xkXI2y",
    "outputId": "e77ffddb-f533-4bac-d15a-3ea9f42b7890"
   },
   "outputs": [
    {
     "name": "stderr",
     "output_type": "stream",
     "text": [
      "C:\\Users\\lenovo\\AppData\\Local\\Temp\\ipykernel_14972\\1397443576.py:1: DeprecationWarning: \n",
      "Pyarrow will become a required dependency of pandas in the next major release of pandas (pandas 3.0),\n",
      "(to allow more performant data types, such as the Arrow string type, and better interoperability with other libraries)\n",
      "but was not found to be installed on your system.\n",
      "If this would cause problems for you,\n",
      "please provide us feedback at https://github.com/pandas-dev/pandas/issues/54466\n",
      "        \n",
      "  import pandas as pd\n"
     ]
    }
   ],
   "source": [
    "import pandas as pd\n",
    "import numpy as np\n",
    "\n",
    "# Load your dataset\n",
    "df = pd.read_csv('Salaries.csv')"
   ]
  },
  {
   "cell_type": "code",
   "execution_count": 2,
   "metadata": {
    "colab": {
     "base_uri": "https://localhost:8080/"
    },
    "id": "xIT514wlvvBZ",
    "outputId": "9ecf152c-554a-4cf6-d667-efc95c16d489"
   },
   "outputs": [
    {
     "data": {
      "text/plain": [
       "Index(['Id', 'EmployeeName', 'JobTitle', 'BasePay', 'OvertimePay', 'OtherPay',\n",
       "       'Benefits', 'TotalPay', 'TotalPayBenefits', 'Year', 'Notes', 'Agency',\n",
       "       'Status'],\n",
       "      dtype='object')"
      ]
     },
     "execution_count": 2,
     "metadata": {},
     "output_type": "execute_result"
    }
   ],
   "source": [
    "df.columns"
   ]
  },
  {
   "cell_type": "code",
   "execution_count": 3,
   "metadata": {
    "id": "bbIN2ujHUyRx"
   },
   "outputs": [
    {
     "data": {
      "text/plain": [
       "148654"
      ]
     },
     "execution_count": 3,
     "metadata": {},
     "output_type": "execute_result"
    }
   ],
   "source": [
    "df.iloc[:, 0].count()"
   ]
  },
  {
   "cell_type": "code",
   "execution_count": 4,
   "metadata": {
    "id": "_dovy31FUyUF"
   },
   "outputs": [
    {
     "data": {
      "text/plain": [
       "13"
      ]
     },
     "execution_count": 4,
     "metadata": {},
     "output_type": "execute_result"
    }
   ],
   "source": [
    "df.loc[0].isnull().count()"
   ]
  },
  {
   "cell_type": "code",
   "execution_count": 5,
   "metadata": {},
   "outputs": [
    {
     "data": {
      "text/plain": [
       "Id                    int64\n",
       "EmployeeName         object\n",
       "JobTitle             object\n",
       "BasePay             float64\n",
       "OvertimePay         float64\n",
       "OtherPay            float64\n",
       "Benefits            float64\n",
       "TotalPay            float64\n",
       "TotalPayBenefits    float64\n",
       "Year                  int64\n",
       "Notes               float64\n",
       "Agency               object\n",
       "Status              float64\n",
       "dtype: object"
      ]
     },
     "execution_count": 5,
     "metadata": {},
     "output_type": "execute_result"
    }
   ],
   "source": [
    "types = df.dtypes\n",
    "types"
   ]
  },
  {
   "cell_type": "code",
   "execution_count": 6,
   "metadata": {},
   "outputs": [
    {
     "data": {
      "text/plain": [
       "[81391,\n",
       " 84506,\n",
       " 84960,\n",
       " 90525,\n",
       " 90786,\n",
       " 90811,\n",
       " 91203,\n",
       " 92260,\n",
       " 97418,\n",
       " 98573,\n",
       " 100464,\n",
       " 101190,\n",
       " 101596,\n",
       " 101792,\n",
       " 101843,\n",
       " 101899,\n",
       " 101952,\n",
       " 102046,\n",
       " 102199,\n",
       " 102226,\n",
       " 102303,\n",
       " 102995,\n",
       " 103069,\n",
       " 103121,\n",
       " 103139,\n",
       " 103457,\n",
       " 103561,\n",
       " 103828,\n",
       " 103852,\n",
       " 103868,\n",
       " 103872,\n",
       " 103907,\n",
       " 103951,\n",
       " 103960,\n",
       " 103979,\n",
       " 104036,\n",
       " 104045,\n",
       " 104094,\n",
       " 104097,\n",
       " 104162,\n",
       " 104221,\n",
       " 104233,\n",
       " 104278,\n",
       " 104343,\n",
       " 104349,\n",
       " 104396,\n",
       " 104410,\n",
       " 104448,\n",
       " 104495,\n",
       " 104533,\n",
       " 104607,\n",
       " 104619,\n",
       " 104633,\n",
       " 104728,\n",
       " 104729,\n",
       " 104780,\n",
       " 104810,\n",
       " 104863,\n",
       " 104985,\n",
       " 105005,\n",
       " 105011,\n",
       " 105021,\n",
       " 105022,\n",
       " 105036,\n",
       " 105099,\n",
       " 105118,\n",
       " 105128,\n",
       " 105192,\n",
       " 105230,\n",
       " 105248,\n",
       " 105280,\n",
       " 105300,\n",
       " 105317,\n",
       " 105327,\n",
       " 105336,\n",
       " 105339,\n",
       " 105369,\n",
       " 105370,\n",
       " 105425,\n",
       " 105427,\n",
       " 105495,\n",
       " 105505,\n",
       " 105507,\n",
       " 105515,\n",
       " 105531,\n",
       " 105555,\n",
       " 105616,\n",
       " 105641,\n",
       " 105647,\n",
       " 105655,\n",
       " 105657,\n",
       " 105676,\n",
       " 105709,\n",
       " 105720,\n",
       " 105723,\n",
       " 105751,\n",
       " 105807,\n",
       " 105819,\n",
       " 105892,\n",
       " 105913,\n",
       " 105932,\n",
       " 105974,\n",
       " 105991,\n",
       " 106031,\n",
       " 106058,\n",
       " 106071,\n",
       " 106083,\n",
       " 106138,\n",
       " 106180,\n",
       " 106190,\n",
       " 106265,\n",
       " 106272,\n",
       " 106275,\n",
       " 106335,\n",
       " 106355,\n",
       " 106384,\n",
       " 106415,\n",
       " 106422,\n",
       " 106429,\n",
       " 106452,\n",
       " 106482,\n",
       " 106491,\n",
       " 106496,\n",
       " 106510,\n",
       " 106517,\n",
       " 106518,\n",
       " 106523,\n",
       " 106527,\n",
       " 106540,\n",
       " 106545,\n",
       " 106549,\n",
       " 106551,\n",
       " 106561,\n",
       " 106576,\n",
       " 106583,\n",
       " 106585,\n",
       " 106591,\n",
       " 106598,\n",
       " 106599,\n",
       " 106607,\n",
       " 106608,\n",
       " 106610,\n",
       " 106617,\n",
       " 106620,\n",
       " 106623,\n",
       " 106626,\n",
       " 106629,\n",
       " 106635,\n",
       " 106638,\n",
       " 106639,\n",
       " 106641,\n",
       " 106646,\n",
       " 106648,\n",
       " 106649,\n",
       " 106650,\n",
       " 106653,\n",
       " 106654,\n",
       " 106655,\n",
       " 106657,\n",
       " 106660,\n",
       " 106663,\n",
       " 106666,\n",
       " 106667,\n",
       " 106669,\n",
       " 106673,\n",
       " 106674,\n",
       " 106678,\n",
       " 106683,\n",
       " 106684,\n",
       " 106685,\n",
       " 106686,\n",
       " 106687,\n",
       " 106688,\n",
       " 106689,\n",
       " 106692,\n",
       " 106695,\n",
       " 106703,\n",
       " 106704,\n",
       " 106713,\n",
       " 106716,\n",
       " 106717,\n",
       " 106718,\n",
       " 106719,\n",
       " 106720,\n",
       " 106721,\n",
       " 106722,\n",
       " 106723,\n",
       " 106724,\n",
       " 106725,\n",
       " 106726,\n",
       " 106727,\n",
       " 106728,\n",
       " 106729,\n",
       " 106730,\n",
       " 106731,\n",
       " 106732,\n",
       " 106733,\n",
       " 106734,\n",
       " 106735,\n",
       " 106736,\n",
       " 106737,\n",
       " 106738,\n",
       " 106739,\n",
       " 106740,\n",
       " 106741,\n",
       " 106742,\n",
       " 106743,\n",
       " 106744,\n",
       " 106745,\n",
       " 106746,\n",
       " 106747,\n",
       " 106748,\n",
       " 106749,\n",
       " 106750,\n",
       " 106751,\n",
       " 106752,\n",
       " 106753,\n",
       " 106754,\n",
       " 106755,\n",
       " 106756,\n",
       " 106757,\n",
       " 106758,\n",
       " 106759,\n",
       " 106760,\n",
       " 106761,\n",
       " 106762,\n",
       " 106763,\n",
       " 106764,\n",
       " 106765,\n",
       " 106766,\n",
       " 106767,\n",
       " 106768,\n",
       " 106769,\n",
       " 106770,\n",
       " 106771,\n",
       " 106772,\n",
       " 106773,\n",
       " 106774,\n",
       " 106775,\n",
       " 106776,\n",
       " 106777,\n",
       " 106778,\n",
       " 106779,\n",
       " 106780,\n",
       " 106781,\n",
       " 106782,\n",
       " 106783,\n",
       " 106784,\n",
       " 106785,\n",
       " 106786,\n",
       " 106787,\n",
       " 106788,\n",
       " 106789,\n",
       " 106790,\n",
       " 106791,\n",
       " 106792,\n",
       " 106793,\n",
       " 106794,\n",
       " 106795,\n",
       " 106796,\n",
       " 106797,\n",
       " 106798,\n",
       " 106799,\n",
       " 106800,\n",
       " 106801,\n",
       " 106802,\n",
       " 106803,\n",
       " 106804,\n",
       " 106805,\n",
       " 106806,\n",
       " 106807,\n",
       " 106808,\n",
       " 106809,\n",
       " 106810,\n",
       " 106811,\n",
       " 106812,\n",
       " 106813,\n",
       " 106814,\n",
       " 106815,\n",
       " 106816,\n",
       " 106817,\n",
       " 106818,\n",
       " 106819,\n",
       " 106820,\n",
       " 106821,\n",
       " 106822,\n",
       " 106823,\n",
       " 106824,\n",
       " 106825,\n",
       " 106826,\n",
       " 106827,\n",
       " 106828,\n",
       " 106829,\n",
       " 106830,\n",
       " 106831,\n",
       " 106832,\n",
       " 106833,\n",
       " 106834,\n",
       " 106835,\n",
       " 106836,\n",
       " 106837,\n",
       " 106838,\n",
       " 106839,\n",
       " 106840,\n",
       " 106841,\n",
       " 106842,\n",
       " 106843,\n",
       " 106844,\n",
       " 106845,\n",
       " 106846,\n",
       " 106847,\n",
       " 106848,\n",
       " 106849,\n",
       " 106850,\n",
       " 106851,\n",
       " 106852,\n",
       " 106853,\n",
       " 106854,\n",
       " 106855,\n",
       " 106856,\n",
       " 106857,\n",
       " 106858,\n",
       " 106859,\n",
       " 106860,\n",
       " 106861,\n",
       " 106862,\n",
       " 106863,\n",
       " 106864,\n",
       " 106865,\n",
       " 106866,\n",
       " 106867,\n",
       " 106868,\n",
       " 106869,\n",
       " 106870,\n",
       " 106871,\n",
       " 106872,\n",
       " 106873,\n",
       " 106874,\n",
       " 106875,\n",
       " 106876,\n",
       " 106877,\n",
       " 106878,\n",
       " 106879,\n",
       " 106880,\n",
       " 106881,\n",
       " 106882,\n",
       " 106883,\n",
       " 106884,\n",
       " 106885,\n",
       " 106886,\n",
       " 106887,\n",
       " 106888,\n",
       " 106889,\n",
       " 106890,\n",
       " 106891,\n",
       " 106892,\n",
       " 106893,\n",
       " 106894,\n",
       " 106895,\n",
       " 106896,\n",
       " 106897,\n",
       " 106898,\n",
       " 106899,\n",
       " 106900,\n",
       " 106901,\n",
       " 106902,\n",
       " 106903,\n",
       " 106904,\n",
       " 106905,\n",
       " 106906,\n",
       " 106907,\n",
       " 106908,\n",
       " 106909,\n",
       " 106910,\n",
       " 106911,\n",
       " 106912,\n",
       " 106913,\n",
       " 106914,\n",
       " 106915,\n",
       " 106916,\n",
       " 106917,\n",
       " 106918,\n",
       " 106919,\n",
       " 106920,\n",
       " 106921,\n",
       " 106922,\n",
       " 106923,\n",
       " 106924,\n",
       " 106925,\n",
       " 106926,\n",
       " 106927,\n",
       " 106928,\n",
       " 106929,\n",
       " 106930,\n",
       " 106931,\n",
       " 106932,\n",
       " 106933,\n",
       " 106934,\n",
       " 106935,\n",
       " 106936,\n",
       " 106937,\n",
       " 106938,\n",
       " 106939,\n",
       " 106940,\n",
       " 106941,\n",
       " 106942,\n",
       " 106943,\n",
       " 106944,\n",
       " 106945,\n",
       " 106946,\n",
       " 106947,\n",
       " 106948,\n",
       " 106949,\n",
       " 106950,\n",
       " 106951,\n",
       " 106952,\n",
       " 106953,\n",
       " 106954,\n",
       " 106955,\n",
       " 106956,\n",
       " 106957,\n",
       " 106958,\n",
       " 106959,\n",
       " 106960,\n",
       " 106961,\n",
       " 106962,\n",
       " 106963,\n",
       " 106964,\n",
       " 106965,\n",
       " 106966,\n",
       " 106967,\n",
       " 106968,\n",
       " 106969,\n",
       " 106970,\n",
       " 106971,\n",
       " 106972,\n",
       " 106973,\n",
       " 106974,\n",
       " 106975,\n",
       " 106976,\n",
       " 106977,\n",
       " 106978,\n",
       " 107009,\n",
       " 107011,\n",
       " 107054,\n",
       " 107188,\n",
       " 107197,\n",
       " 107320,\n",
       " 107351,\n",
       " 107431,\n",
       " 107468,\n",
       " 107510,\n",
       " 107582,\n",
       " 107613,\n",
       " 107629,\n",
       " 107764,\n",
       " 107799,\n",
       " 107801,\n",
       " 107834,\n",
       " 107845,\n",
       " 107887,\n",
       " 107888,\n",
       " 107938,\n",
       " 107952,\n",
       " 107973,\n",
       " 107986,\n",
       " 108017,\n",
       " 108037,\n",
       " 108041,\n",
       " 108066,\n",
       " 108173,\n",
       " 108177,\n",
       " 108235,\n",
       " 108239,\n",
       " 108240,\n",
       " 108241,\n",
       " 108269,\n",
       " 108315,\n",
       " 108359,\n",
       " 108391,\n",
       " 108406,\n",
       " 108454,\n",
       " 108469,\n",
       " 108470,\n",
       " 108491,\n",
       " 108503,\n",
       " 108514,\n",
       " 108515,\n",
       " 108553,\n",
       " 108579,\n",
       " 108581,\n",
       " 108622,\n",
       " 108669,\n",
       " 108671,\n",
       " 108705,\n",
       " 108726,\n",
       " 108751,\n",
       " 108769,\n",
       " 108797,\n",
       " 108875,\n",
       " 108881,\n",
       " 108928,\n",
       " 108930,\n",
       " 108992,\n",
       " 109008,\n",
       " 109019,\n",
       " 109064,\n",
       " 109077,\n",
       " 109086,\n",
       " 109090,\n",
       " 109112,\n",
       " 109132,\n",
       " 109148,\n",
       " 109155,\n",
       " 109170,\n",
       " 109237,\n",
       " 109246,\n",
       " 109275,\n",
       " 109352,\n",
       " 109394,\n",
       " 109403,\n",
       " 109458,\n",
       " 109464,\n",
       " 109486,\n",
       " 109508,\n",
       " 109521,\n",
       " 109522,\n",
       " 109523,\n",
       " 109536,\n",
       " 109540,\n",
       " 109557,\n",
       " 109620,\n",
       " 109676,\n",
       " 109685,\n",
       " 109694,\n",
       " 109706,\n",
       " 109726,\n",
       " 109739,\n",
       " 109782,\n",
       " 109838,\n",
       " 109845,\n",
       " 109867,\n",
       " 109870,\n",
       " 109911,\n",
       " 109942,\n",
       " 109948,\n",
       " 109960,\n",
       " 109961,\n",
       " 109969,\n",
       " 109985,\n",
       " 109988,\n",
       " 110032,\n",
       " 110043,\n",
       " 110070,\n",
       " 110074,\n",
       " 110088,\n",
       " 110099,\n",
       " 110108,\n",
       " 110127,\n",
       " 110137,\n",
       " 110167,\n",
       " 110176,\n",
       " 110185,\n",
       " 110203,\n",
       " 110210,\n",
       " 110214,\n",
       " 110282,\n",
       " 110283,\n",
       " 110296,\n",
       " 110343,\n",
       " 110347,\n",
       " 110354,\n",
       " 110356,\n",
       " 110357,\n",
       " 110383,\n",
       " 110384,\n",
       " 110393,\n",
       " 110398,\n",
       " 110403,\n",
       " 110408,\n",
       " 110410,\n",
       " 110416,\n",
       " 110420,\n",
       " 110435,\n",
       " 110436,\n",
       " 110440,\n",
       " 110457,\n",
       " 110460,\n",
       " 110474,\n",
       " 110480,\n",
       " 110484,\n",
       " 110506,\n",
       " 110511,\n",
       " 110516,\n",
       " 110517,\n",
       " 110521,\n",
       " 110522,\n",
       " 110523,\n",
       " 110524,\n",
       " 110525,\n",
       " 110526,\n",
       " 110527,\n",
       " 110528,\n",
       " 110529,\n",
       " 110530,\n",
       " 148646,\n",
       " 148650,\n",
       " 148651,\n",
       " 148652]"
      ]
     },
     "execution_count": 6,
     "metadata": {},
     "output_type": "execute_result"
    }
   ],
   "source": [
    "import numpy as np\n",
    "BasePay = df[np.isnan(df[\"BasePay\"])][\"BasePay\"].keys().tolist()\n",
    "BasePay #Array of missing values in BasePay"
   ]
  },
  {
   "cell_type": "code",
   "execution_count": 7,
   "metadata": {},
   "outputs": [
    {
     "data": {
      "text/plain": [
       "81391    NaN\n",
       "84506    NaN\n",
       "84960    NaN\n",
       "90525    NaN\n",
       "90786    NaN\n",
       "          ..\n",
       "110530   NaN\n",
       "148646   NaN\n",
       "148650   NaN\n",
       "148651   NaN\n",
       "148652   NaN\n",
       "Name: BasePay, Length: 609, dtype: float64"
      ]
     },
     "execution_count": 7,
     "metadata": {},
     "output_type": "execute_result"
    }
   ],
   "source": [
    "missing_values = dict()\n",
    "cols = df.columns.tolist()\n",
    "for col in cols:\n",
    "    missing_values[col]=(df[df[col].isna()][col])\n",
    "missing_values[\"BasePay\"]"
   ]
  },
  {
   "cell_type": "code",
   "execution_count": null,
   "metadata": {},
   "outputs": [],
   "source": []
  },
  {
   "cell_type": "code",
   "execution_count": 8,
   "metadata": {},
   "outputs": [
    {
     "data": {
      "text/plain": [
       "74768.32197169267"
      ]
     },
     "execution_count": 8,
     "metadata": {},
     "output_type": "execute_result"
    }
   ],
   "source": [
    "df['TotalPay'].mean()"
   ]
  },
  {
   "cell_type": "code",
   "execution_count": 9,
   "metadata": {},
   "outputs": [
    {
     "data": {
      "text/plain": [
       "71426.60999999999"
      ]
     },
     "execution_count": 9,
     "metadata": {},
     "output_type": "execute_result"
    }
   ],
   "source": [
    "df['TotalPay'].median()"
   ]
  },
  {
   "cell_type": "code",
   "execution_count": 10,
   "metadata": {},
   "outputs": [
    {
     "data": {
      "text/plain": [
       "0    0.0\n",
       "Name: TotalPay, dtype: float64"
      ]
     },
     "execution_count": 10,
     "metadata": {},
     "output_type": "execute_result"
    }
   ],
   "source": [
    "df['TotalPay'].mode()"
   ]
  },
  {
   "cell_type": "code",
   "execution_count": 11,
   "metadata": {},
   "outputs": [
    {
     "data": {
      "text/plain": [
       "-618.13"
      ]
     },
     "execution_count": 11,
     "metadata": {},
     "output_type": "execute_result"
    }
   ],
   "source": [
    "min = df['TotalPay'].min()\n",
    "min"
   ]
  },
  {
   "cell_type": "code",
   "execution_count": 12,
   "metadata": {},
   "outputs": [
    {
     "data": {
      "text/plain": [
       "567595.43"
      ]
     },
     "execution_count": 12,
     "metadata": {},
     "output_type": "execute_result"
    }
   ],
   "source": [
    "max = df['TotalPay'].max()\n",
    "max"
   ]
  },
  {
   "cell_type": "code",
   "execution_count": 13,
   "metadata": {},
   "outputs": [
    {
     "data": {
      "text/plain": [
       "568213.56"
      ]
     },
     "execution_count": 13,
     "metadata": {},
     "output_type": "execute_result"
    }
   ],
   "source": [
    "r = max - min\n",
    "r"
   ]
  },
  {
   "cell_type": "code",
   "execution_count": 14,
   "metadata": {},
   "outputs": [
    {
     "data": {
      "text/html": [
       "<div>\n",
       "<style scoped>\n",
       "    .dataframe tbody tr th:only-of-type {\n",
       "        vertical-align: middle;\n",
       "    }\n",
       "\n",
       "    .dataframe tbody tr th {\n",
       "        vertical-align: top;\n",
       "    }\n",
       "\n",
       "    .dataframe thead th {\n",
       "        text-align: right;\n",
       "    }\n",
       "</style>\n",
       "<table border=\"1\" class=\"dataframe\">\n",
       "  <thead>\n",
       "    <tr style=\"text-align: right;\">\n",
       "      <th></th>\n",
       "      <th>Id</th>\n",
       "      <th>EmployeeName</th>\n",
       "      <th>JobTitle</th>\n",
       "      <th>BasePay</th>\n",
       "      <th>OvertimePay</th>\n",
       "      <th>OtherPay</th>\n",
       "      <th>Benefits</th>\n",
       "      <th>TotalPay</th>\n",
       "      <th>TotalPayBenefits</th>\n",
       "      <th>Year</th>\n",
       "      <th>Notes</th>\n",
       "      <th>Agency</th>\n",
       "      <th>Status</th>\n",
       "    </tr>\n",
       "  </thead>\n",
       "  <tbody>\n",
       "    <tr>\n",
       "      <th>148653</th>\n",
       "      <td>148654</td>\n",
       "      <td>Joe Lopez</td>\n",
       "      <td>Counselor, Log Cabin Ranch</td>\n",
       "      <td>0.0</td>\n",
       "      <td>0.0</td>\n",
       "      <td>-618.13</td>\n",
       "      <td>0.0</td>\n",
       "      <td>-618.13</td>\n",
       "      <td>-618.13</td>\n",
       "      <td>2014</td>\n",
       "      <td>NaN</td>\n",
       "      <td>San Francisco</td>\n",
       "      <td>NaN</td>\n",
       "    </tr>\n",
       "  </tbody>\n",
       "</table>\n",
       "</div>"
      ],
      "text/plain": [
       "            Id EmployeeName                    JobTitle  BasePay  OvertimePay  \\\n",
       "148653  148654    Joe Lopez  Counselor, Log Cabin Ranch      0.0          0.0   \n",
       "\n",
       "        OtherPay  Benefits  TotalPay  TotalPayBenefits  Year  Notes  \\\n",
       "148653   -618.13       0.0   -618.13           -618.13  2014    NaN   \n",
       "\n",
       "               Agency  Status  \n",
       "148653  San Francisco     NaN  "
      ]
     },
     "execution_count": 14,
     "metadata": {},
     "output_type": "execute_result"
    }
   ],
   "source": [
    "df[df[\"TotalPay\"]<0]"
   ]
  },
  {
   "cell_type": "code",
   "execution_count": 15,
   "metadata": {},
   "outputs": [
    {
     "data": {
      "text/plain": [
       "50517.00527394987"
      ]
     },
     "execution_count": 15,
     "metadata": {},
     "output_type": "execute_result"
    }
   ],
   "source": [
    "df['TotalPay'].std()"
   ]
  },
  {
   "cell_type": "code",
   "execution_count": 16,
   "metadata": {},
   "outputs": [
    {
     "data": {
      "text/html": [
       "<div>\n",
       "<style scoped>\n",
       "    .dataframe tbody tr th:only-of-type {\n",
       "        vertical-align: middle;\n",
       "    }\n",
       "\n",
       "    .dataframe tbody tr th {\n",
       "        vertical-align: top;\n",
       "    }\n",
       "\n",
       "    .dataframe thead th {\n",
       "        text-align: right;\n",
       "    }\n",
       "</style>\n",
       "<table border=\"1\" class=\"dataframe\">\n",
       "  <thead>\n",
       "    <tr style=\"text-align: right;\">\n",
       "      <th></th>\n",
       "      <th>Id</th>\n",
       "      <th>EmployeeName</th>\n",
       "      <th>JobTitle</th>\n",
       "      <th>BasePay</th>\n",
       "      <th>OvertimePay</th>\n",
       "      <th>OtherPay</th>\n",
       "      <th>Benefits</th>\n",
       "      <th>TotalPay</th>\n",
       "      <th>TotalPayBenefits</th>\n",
       "      <th>Year</th>\n",
       "      <th>Notes</th>\n",
       "      <th>Agency</th>\n",
       "      <th>Status</th>\n",
       "    </tr>\n",
       "  </thead>\n",
       "  <tbody>\n",
       "  </tbody>\n",
       "</table>\n",
       "</div>"
      ],
      "text/plain": [
       "Empty DataFrame\n",
       "Columns: [Id, EmployeeName, JobTitle, BasePay, OvertimePay, OtherPay, Benefits, TotalPay, TotalPayBenefits, Year, Notes, Agency, Status]\n",
       "Index: []"
      ]
     },
     "execution_count": 16,
     "metadata": {},
     "output_type": "execute_result"
    }
   ],
   "source": [
    "df[df[\"Agency\"].isna()]"
   ]
  },
  {
   "cell_type": "code",
   "execution_count": 17,
   "metadata": {},
   "outputs": [
    {
     "data": {
      "image/png": "[encoded data removed]",
      "text/plain": [
       "<Figure size 640x480 with 1 Axes>"
      ]
     },
     "metadata": {},
     "output_type": "display_data"
    }
   ],
   "source": [
    "from matplotlib import pyplot as plt\n",
    "s = df['TotalPay'].tolist()\n",
    "\n",
    "plt.hist(s,10)\n",
    "plt.show() \n"
   ]
  },
  {
   "cell_type": "code",
   "execution_count": 64,
   "metadata": {},
   "outputs": [
    {
     "data": {
      "text/plain": [
       "2159"
      ]
     },
     "execution_count": 64,
     "metadata": {},
     "output_type": "execute_result"
    }
   ],
   "source": [
    "len(df['JobTitle'].unique())"
   ]
  },
  {
   "cell_type": "code",
   "execution_count": 65,
   "metadata": {},
   "outputs": [
    {
     "name": "stdout",
     "output_type": "stream",
     "text": [
      "['Unknown' 'POLICE DEPARTMENT' 'FIRE DEPARTMENT' 'CIVIL & CRIMINAL'\n",
      " 'CIVIL/CRIMINAL' 'MFCC' 'SEASONAL' 'Fire Dept' 'Cvl&Crmnl'\n",
      " 'Civil & Criminal' 'SFERS' 'Police Department' 'Civil/Criminal'\n",
      " 'Seasonal' 'Fire Department']\n"
     ]
    }
   ],
   "source": [
    "df['Department'] = df['JobTitle'].apply(lambda x: x.split('(')[-1].split(')')[0] if '(' in x and ')' in x else 'Unknown')\n",
    "\n",
    "# Counting the number of unique departments\n",
    "unique_departments = df['Department'].unique()\n",
    "\n",
    "print(unique_departments)"
   ]
  },
  {
   "cell_type": "code",
   "execution_count": 66,
   "metadata": {},
   "outputs": [],
   "source": [
    "df.loc[df[\"Department\"].isin([\"Civil/Criminal\", \"Civil & Criminal\", \"CIVIL & CRIMINAL\",\"Cvl&Crmnl\",\"CIVIL/CRIMINAL\"]), \"Department\"] = \"CIVIL & CRIMINAL\"\n",
    "df.loc[df[\"Department\"].isin([\"POLICE DEPARTMENT\", \"Police Department\"]), \"Department\"] = \"POLICE DEPARTMENT\"\n",
    "df.loc[df[\"Department\"].isin([\"FIRE DEPARTMENT\", \"Fire Department\",\"Fire Dept\"]), \"Department\"] = \"FIRE DEPARTMENT\"\n",
    "df.loc[df[\"Department\"].isin([\"Seasonal\", \"SEASONAL\"]), \"Department\"] = \"SEASONAL\"\n",
    "\n"
   ]
  },
  {
   "cell_type": "code",
   "execution_count": 67,
   "metadata": {},
   "outputs": [
    {
     "data": {
      "text/plain": [
       "{'POLICE DEPARTMENT': 0.004789645754571017,\n",
       " 'FIRE DEPARTMENT': 0.0005247083832254766,\n",
       " 'Unknown': 0.9825500827424758,\n",
       " 'CIVIL & CRIMINAL': 0.01031926487010104,\n",
       " 'SFERS': 0.0004305299554670577,\n",
       " 'Seasonal': 0.0007803355442840422,\n",
       " 'MFCC': 0.0006054327498755499}"
      ]
     },
     "execution_count": 67,
     "metadata": {},
     "output_type": "execute_result"
    }
   ],
   "source": [
    "proportion={}\n",
    "proportion[\"POLICE DEPARTMENT\"]=len(df[df['Department']=='POLICE DEPARTMENT'] )/  len(df[\"Department\"])\n",
    "proportion[\"FIRE DEPARTMENT\"]=len(df[df['Department']=='FIRE DEPARTMENT'] )/  len(df[\"Department\"])\n",
    "proportion[\"Unknown\"]=len(df[(df['Department']=='Unknown')] )/  len(df[\"Department\"])\n",
    "proportion[\"CIVIL & CRIMINAL\"]=len(df[df['Department']=='CIVIL & CRIMINAL'] )/  len(df[\"Department\"])\n",
    "proportion[\"SFERS\"]=len(df[(df['Department']=='SFERS')] )/  len(df[\"Department\"])\n",
    "proportion[\"Seasonal\"]=len(df[(df['Department']=='SEASONAL')] )/  len(df[\"Department\"])\n",
    "proportion[\"MFCC\"]=len(df[(df['Department']=='MFCC')] )/  len(df[\"Department\"])\n",
    "\n",
    "\n",
    "proportion\n"
   ]
  },
  {
   "cell_type": "code",
   "execution_count": 68,
   "metadata": {},
   "outputs": [
    {
     "data": {
      "text/plain": [
       "([<matplotlib.patches.Wedge at 0x235737a7610>,\n",
       "  <matplotlib.patches.Wedge at 0x23573654fd0>,\n",
       "  <matplotlib.patches.Wedge at 0x235737a78b0>,\n",
       "  <matplotlib.patches.Wedge at 0x23573374af0>,\n",
       "  <matplotlib.patches.Wedge at 0x23572d234c0>,\n",
       "  <matplotlib.patches.Wedge at 0x23573580b20>,\n",
       "  <matplotlib.patches.Wedge at 0x23573580cd0>],\n",
       " [Text(1.099875473714514, 0.016551203015903165, 'POLICE DEPARTMENT'),\n",
       "  Text(1.0994458687567998, 0.034911053745282576, 'FIRE DEPARTMENT'),\n",
       "  Text(-1.0997474378369068, 0.023570595477391498, 'Unknown'),\n",
       "  Text(1.0989435304243216, -0.04819872341181057, 'CIVIL & CRIMINAL'),\n",
       "  Text(1.0999443431513405, -0.011065349943235468, 'SFERS'),\n",
       "  Text(1.0999784776428874, -0.00688104079598832, 'Seasonal'),\n",
       "  Text(1.0999980102913252, -0.002092212973351112, 'MFCC')])"
      ]
     },
     "execution_count": 68,
     "metadata": {},
     "output_type": "execute_result"
    },
    {
     "data": {
      "image/png": "[encoded data removed]",
      "text/plain": [
       "<Figure size 640x480 with 1 Axes>"
      ]
     },
     "metadata": {},
     "output_type": "display_data"
    }
   ],
   "source": [
    "names = []\n",
    "values = []\n",
    "for key,value in proportion.items():\n",
    "    names.append(key)\n",
    "    values.append(value)\n",
    "fig, ax = plt.subplots()\n",
    "ax.pie(values, labels=names)"
   ]
  },
  {
   "cell_type": "markdown",
   "metadata": {},
   "source": [
    "##### "
   ]
  },
  {
   "cell_type": "code",
   "execution_count": 30,
   "metadata": {},
   "outputs": [
    {
     "data": {
      "text/plain": [
       "Department\n",
       "CIVIL & CRIMINAL       1534\n",
       "FIRE DEPARTMENT          78\n",
       "MFCC                     90\n",
       "POLICE DEPARTMENT       712\n",
       "SEASONAL                116\n",
       "SFERS                    64\n",
       "Unknown              146060\n",
       "Name: TotalPay, dtype: int64"
      ]
     },
     "execution_count": 30,
     "metadata": {},
     "output_type": "execute_result"
    }
   ],
   "source": [
    "df.groupby(by=[\"Department\"])['TotalPay'].count()"
   ]
  },
  {
   "cell_type": "code",
   "execution_count": 60,
   "metadata": {},
   "outputs": [
    {
     "data": {
      "text/html": [
       "<div>\n",
       "<style scoped>\n",
       "    .dataframe tbody tr th:only-of-type {\n",
       "        vertical-align: middle;\n",
       "    }\n",
       "\n",
       "    .dataframe tbody tr th {\n",
       "        vertical-align: top;\n",
       "    }\n",
       "\n",
       "    .dataframe thead tr th {\n",
       "        text-align: left;\n",
       "    }\n",
       "\n",
       "    .dataframe thead tr:last-of-type th {\n",
       "        text-align: right;\n",
       "    }\n",
       "</style>\n",
       "<table border=\"1\" class=\"dataframe\">\n",
       "  <thead>\n",
       "    <tr>\n",
       "      <th></th>\n",
       "      <th colspan=\"5\" halign=\"left\">TotalPay</th>\n",
       "    </tr>\n",
       "    <tr>\n",
       "      <th></th>\n",
       "      <th>mean</th>\n",
       "      <th>median</th>\n",
       "      <th>min</th>\n",
       "      <th>max</th>\n",
       "      <th>count</th>\n",
       "    </tr>\n",
       "    <tr>\n",
       "      <th>Department</th>\n",
       "      <th></th>\n",
       "      <th></th>\n",
       "      <th></th>\n",
       "      <th></th>\n",
       "      <th></th>\n",
       "    </tr>\n",
       "  </thead>\n",
       "  <tbody>\n",
       "    <tr>\n",
       "      <th>CIVIL &amp; CRIMINAL</th>\n",
       "      <td>136806.539283</td>\n",
       "      <td>150254.700</td>\n",
       "      <td>0.00</td>\n",
       "      <td>225366.50</td>\n",
       "      <td>1534</td>\n",
       "    </tr>\n",
       "    <tr>\n",
       "      <th>FIRE DEPARTMENT</th>\n",
       "      <td>236373.814872</td>\n",
       "      <td>242809.475</td>\n",
       "      <td>7093.37</td>\n",
       "      <td>333888.32</td>\n",
       "      <td>78</td>\n",
       "    </tr>\n",
       "    <tr>\n",
       "      <th>MFCC</th>\n",
       "      <td>67517.330222</td>\n",
       "      <td>79729.945</td>\n",
       "      <td>1122.70</td>\n",
       "      <td>97413.08</td>\n",
       "      <td>90</td>\n",
       "    </tr>\n",
       "    <tr>\n",
       "      <th>POLICE DEPARTMENT</th>\n",
       "      <td>158423.671517</td>\n",
       "      <td>152548.170</td>\n",
       "      <td>283.86</td>\n",
       "      <td>538909.28</td>\n",
       "      <td>712</td>\n",
       "    </tr>\n",
       "    <tr>\n",
       "      <th>SEASONAL</th>\n",
       "      <td>9382.643879</td>\n",
       "      <td>8380.800</td>\n",
       "      <td>293.40</td>\n",
       "      <td>20952.00</td>\n",
       "      <td>116</td>\n",
       "    </tr>\n",
       "    <tr>\n",
       "      <th>SFERS</th>\n",
       "      <td>87697.342344</td>\n",
       "      <td>84263.110</td>\n",
       "      <td>576.36</td>\n",
       "      <td>231739.64</td>\n",
       "      <td>64</td>\n",
       "    </tr>\n",
       "    <tr>\n",
       "      <th>Unknown</th>\n",
       "      <td>73673.398022</td>\n",
       "      <td>70715.150</td>\n",
       "      <td>-618.13</td>\n",
       "      <td>567595.43</td>\n",
       "      <td>146060</td>\n",
       "    </tr>\n",
       "  </tbody>\n",
       "</table>\n",
       "</div>"
      ],
      "text/plain": [
       "                        TotalPay                                        \n",
       "                            mean      median      min        max   count\n",
       "Department                                                              \n",
       "CIVIL & CRIMINAL   136806.539283  150254.700     0.00  225366.50    1534\n",
       "FIRE DEPARTMENT    236373.814872  242809.475  7093.37  333888.32      78\n",
       "MFCC                67517.330222   79729.945  1122.70   97413.08      90\n",
       "POLICE DEPARTMENT  158423.671517  152548.170   283.86  538909.28     712\n",
       "SEASONAL             9382.643879    8380.800   293.40   20952.00     116\n",
       "SFERS               87697.342344   84263.110   576.36  231739.64      64\n",
       "Unknown             73673.398022   70715.150  -618.13  567595.43  146060"
      ]
     },
     "execution_count": 60,
     "metadata": {},
     "output_type": "execute_result"
    }
   ],
   "source": [
    "df.groupby(by='Department').agg({'TotalPay':['mean','median','min','max','count']})"
   ]
  },
  {
   "cell_type": "code",
   "execution_count": 50,
   "metadata": {},
   "outputs": [
    {
     "data": {
      "text/html": [
       "<div>\n",
       "<style scoped>\n",
       "    .dataframe tbody tr th:only-of-type {\n",
       "        vertical-align: middle;\n",
       "    }\n",
       "\n",
       "    .dataframe tbody tr th {\n",
       "        vertical-align: top;\n",
       "    }\n",
       "\n",
       "    .dataframe thead th {\n",
       "        text-align: right;\n",
       "    }\n",
       "</style>\n",
       "<table border=\"1\" class=\"dataframe\">\n",
       "  <thead>\n",
       "    <tr style=\"text-align: right;\">\n",
       "      <th></th>\n",
       "      <th>Id</th>\n",
       "      <th>EmployeeName</th>\n",
       "      <th>JobTitle</th>\n",
       "      <th>BasePay</th>\n",
       "      <th>OvertimePay</th>\n",
       "      <th>OtherPay</th>\n",
       "      <th>Benefits</th>\n",
       "      <th>TotalPay</th>\n",
       "      <th>TotalPayBenefits</th>\n",
       "      <th>Year</th>\n",
       "      <th>Notes</th>\n",
       "      <th>Agency</th>\n",
       "      <th>Status</th>\n",
       "      <th>Department</th>\n",
       "    </tr>\n",
       "  </thead>\n",
       "  <tbody>\n",
       "    <tr>\n",
       "      <th>0</th>\n",
       "      <td>1</td>\n",
       "      <td>NATHANIEL FORD</td>\n",
       "      <td>GENERAL MANAGER-METROPOLITAN TRANSIT AUTHORITY</td>\n",
       "      <td>167411.18</td>\n",
       "      <td>0.00</td>\n",
       "      <td>400184.25</td>\n",
       "      <td>NaN</td>\n",
       "      <td>567595.43</td>\n",
       "      <td>567595.43</td>\n",
       "      <td>2011</td>\n",
       "      <td>NaN</td>\n",
       "      <td>San Francisco</td>\n",
       "      <td>NaN</td>\n",
       "      <td>Unknown</td>\n",
       "    </tr>\n",
       "    <tr>\n",
       "      <th>1</th>\n",
       "      <td>2</td>\n",
       "      <td>GARY JIMENEZ</td>\n",
       "      <td>CAPTAIN III (POLICE DEPARTMENT)</td>\n",
       "      <td>155966.02</td>\n",
       "      <td>245131.88</td>\n",
       "      <td>137811.38</td>\n",
       "      <td>NaN</td>\n",
       "      <td>538909.28</td>\n",
       "      <td>538909.28</td>\n",
       "      <td>2011</td>\n",
       "      <td>NaN</td>\n",
       "      <td>San Francisco</td>\n",
       "      <td>NaN</td>\n",
       "      <td>POLICE DEPARTMENT</td>\n",
       "    </tr>\n",
       "    <tr>\n",
       "      <th>2</th>\n",
       "      <td>3</td>\n",
       "      <td>ALBERT PARDINI</td>\n",
       "      <td>CAPTAIN III (POLICE DEPARTMENT)</td>\n",
       "      <td>212739.13</td>\n",
       "      <td>106088.18</td>\n",
       "      <td>16452.60</td>\n",
       "      <td>NaN</td>\n",
       "      <td>335279.91</td>\n",
       "      <td>335279.91</td>\n",
       "      <td>2011</td>\n",
       "      <td>NaN</td>\n",
       "      <td>San Francisco</td>\n",
       "      <td>NaN</td>\n",
       "      <td>POLICE DEPARTMENT</td>\n",
       "    </tr>\n",
       "    <tr>\n",
       "      <th>3</th>\n",
       "      <td>4</td>\n",
       "      <td>CHRISTOPHER CHONG</td>\n",
       "      <td>WIRE ROPE CABLE MAINTENANCE MECHANIC</td>\n",
       "      <td>77916.00</td>\n",
       "      <td>56120.71</td>\n",
       "      <td>198306.90</td>\n",
       "      <td>NaN</td>\n",
       "      <td>332343.61</td>\n",
       "      <td>332343.61</td>\n",
       "      <td>2011</td>\n",
       "      <td>NaN</td>\n",
       "      <td>San Francisco</td>\n",
       "      <td>NaN</td>\n",
       "      <td>Unknown</td>\n",
       "    </tr>\n",
       "    <tr>\n",
       "      <th>4</th>\n",
       "      <td>5</td>\n",
       "      <td>PATRICK GARDNER</td>\n",
       "      <td>DEPUTY CHIEF OF DEPARTMENT,(FIRE DEPARTMENT)</td>\n",
       "      <td>134401.60</td>\n",
       "      <td>9737.00</td>\n",
       "      <td>182234.59</td>\n",
       "      <td>NaN</td>\n",
       "      <td>326373.19</td>\n",
       "      <td>326373.19</td>\n",
       "      <td>2011</td>\n",
       "      <td>NaN</td>\n",
       "      <td>San Francisco</td>\n",
       "      <td>NaN</td>\n",
       "      <td>FIRE DEPARTMENT</td>\n",
       "    </tr>\n",
       "  </tbody>\n",
       "</table>\n",
       "</div>"
      ],
      "text/plain": [
       "   Id       EmployeeName                                        JobTitle  \\\n",
       "0   1     NATHANIEL FORD  GENERAL MANAGER-METROPOLITAN TRANSIT AUTHORITY   \n",
       "1   2       GARY JIMENEZ                 CAPTAIN III (POLICE DEPARTMENT)   \n",
       "2   3     ALBERT PARDINI                 CAPTAIN III (POLICE DEPARTMENT)   \n",
       "3   4  CHRISTOPHER CHONG            WIRE ROPE CABLE MAINTENANCE MECHANIC   \n",
       "4   5    PATRICK GARDNER    DEPUTY CHIEF OF DEPARTMENT,(FIRE DEPARTMENT)   \n",
       "\n",
       "     BasePay  OvertimePay   OtherPay  Benefits   TotalPay  TotalPayBenefits  \\\n",
       "0  167411.18         0.00  400184.25       NaN  567595.43         567595.43   \n",
       "1  155966.02    245131.88  137811.38       NaN  538909.28         538909.28   \n",
       "2  212739.13    106088.18   16452.60       NaN  335279.91         335279.91   \n",
       "3   77916.00     56120.71  198306.90       NaN  332343.61         332343.61   \n",
       "4  134401.60      9737.00  182234.59       NaN  326373.19         326373.19   \n",
       "\n",
       "   Year  Notes         Agency  Status         Department  \n",
       "0  2011    NaN  San Francisco     NaN            Unknown  \n",
       "1  2011    NaN  San Francisco     NaN  POLICE DEPARTMENT  \n",
       "2  2011    NaN  San Francisco     NaN  POLICE DEPARTMENT  \n",
       "3  2011    NaN  San Francisco     NaN            Unknown  \n",
       "4  2011    NaN  San Francisco     NaN    FIRE DEPARTMENT  "
      ]
     },
     "execution_count": 50,
     "metadata": {},
     "output_type": "execute_result"
    }
   ],
   "source": [
    "df.head()"
   ]
  },
  {
   "cell_type": "code",
   "execution_count": 33,
   "metadata": {},
   "outputs": [
    {
     "data": {
      "text/plain": [
       "0.032090397985590415"
      ]
     },
     "execution_count": 33,
     "metadata": {},
     "output_type": "execute_result"
    }
   ],
   "source": [
    "df[\"TotalPay\"].corr(df[\"Year\"])"
   ]
  },
  {
   "cell_type": "code",
   "execution_count": 34,
   "metadata": {},
   "outputs": [
    {
     "data": {
      "text/plain": [
       "0.9544936474296029"
      ]
     },
     "execution_count": 34,
     "metadata": {},
     "output_type": "execute_result"
    }
   ],
   "source": [
    "\n"
   ]
  },
  {
   "cell_type": "code",
   "execution_count": 36,
   "metadata": {},
   "outputs": [
    {
     "data": {
      "text/plain": [
       "0.8840972255719944"
      ]
     },
     "execution_count": 36,
     "metadata": {},
     "output_type": "execute_result"
    }
   ],
   "source": [
    "df[\"Benefits\"].corr(df[\"TotalPay\"])"
   ]
  },
  {
   "cell_type": "code",
   "execution_count": 47,
   "metadata": {},
   "outputs": [
    {
     "data": {
      "image/png": "[encoded data removed]",
      "text/plain": [
       "<Figure size 640x480 with 1 Axes>"
      ]
     },
     "metadata": {},
     "output_type": "display_data"
    }
   ],
   "source": [
    "TotalPay = df['TotalPay']\n",
    "Benefits = df['Benefits']\n",
    "plt.scatter(TotalPay,Benefits,color = 'r')\n",
    "plt.xlabel(\"Total Pay\", color = 'b', size = 18)\n",
    "plt.ylabel(\"Benefits\", color = 'b', size = 18)\n",
    "plt.show()"
   ]
  },
  {
   "cell_type": "code",
   "execution_count": 48,
   "metadata": {},
   "outputs": [
    {
     "data": {
      "text/html": [
       "<div>\n",
       "<style scoped>\n",
       "    .dataframe tbody tr th:only-of-type {\n",
       "        vertical-align: middle;\n",
       "    }\n",
       "\n",
       "    .dataframe tbody tr th {\n",
       "        vertical-align: top;\n",
       "    }\n",
       "\n",
       "    .dataframe thead th {\n",
       "        text-align: right;\n",
       "    }\n",
       "</style>\n",
       "<table border=\"1\" class=\"dataframe\">\n",
       "  <thead>\n",
       "    <tr style=\"text-align: right;\">\n",
       "      <th></th>\n",
       "      <th>Id</th>\n",
       "      <th>BasePay</th>\n",
       "      <th>OvertimePay</th>\n",
       "      <th>OtherPay</th>\n",
       "      <th>Benefits</th>\n",
       "      <th>TotalPay</th>\n",
       "      <th>TotalPayBenefits</th>\n",
       "      <th>Year</th>\n",
       "      <th>Notes</th>\n",
       "      <th>Status</th>\n",
       "    </tr>\n",
       "  </thead>\n",
       "  <tbody>\n",
       "    <tr>\n",
       "      <th>count</th>\n",
       "      <td>148654.000000</td>\n",
       "      <td>148045.000000</td>\n",
       "      <td>148650.000000</td>\n",
       "      <td>148650.000000</td>\n",
       "      <td>112491.000000</td>\n",
       "      <td>148654.000000</td>\n",
       "      <td>148654.000000</td>\n",
       "      <td>148654.000000</td>\n",
       "      <td>0.0</td>\n",
       "      <td>0.0</td>\n",
       "    </tr>\n",
       "    <tr>\n",
       "      <th>mean</th>\n",
       "      <td>74327.500000</td>\n",
       "      <td>66325.448840</td>\n",
       "      <td>5066.059886</td>\n",
       "      <td>3648.767297</td>\n",
       "      <td>25007.893151</td>\n",
       "      <td>74768.321972</td>\n",
       "      <td>93692.554811</td>\n",
       "      <td>2012.522643</td>\n",
       "      <td>NaN</td>\n",
       "      <td>NaN</td>\n",
       "    </tr>\n",
       "    <tr>\n",
       "      <th>std</th>\n",
       "      <td>42912.857795</td>\n",
       "      <td>42764.635495</td>\n",
       "      <td>11454.380559</td>\n",
       "      <td>8056.601866</td>\n",
       "      <td>15402.215858</td>\n",
       "      <td>50517.005274</td>\n",
       "      <td>62793.533483</td>\n",
       "      <td>1.117538</td>\n",
       "      <td>NaN</td>\n",
       "      <td>NaN</td>\n",
       "    </tr>\n",
       "    <tr>\n",
       "      <th>min</th>\n",
       "      <td>1.000000</td>\n",
       "      <td>-166.010000</td>\n",
       "      <td>-0.010000</td>\n",
       "      <td>-7058.590000</td>\n",
       "      <td>-33.890000</td>\n",
       "      <td>-618.130000</td>\n",
       "      <td>-618.130000</td>\n",
       "      <td>2011.000000</td>\n",
       "      <td>NaN</td>\n",
       "      <td>NaN</td>\n",
       "    </tr>\n",
       "    <tr>\n",
       "      <th>25%</th>\n",
       "      <td>37164.250000</td>\n",
       "      <td>33588.200000</td>\n",
       "      <td>0.000000</td>\n",
       "      <td>0.000000</td>\n",
       "      <td>11535.395000</td>\n",
       "      <td>36168.995000</td>\n",
       "      <td>44065.650000</td>\n",
       "      <td>2012.000000</td>\n",
       "      <td>NaN</td>\n",
       "      <td>NaN</td>\n",
       "    </tr>\n",
       "    <tr>\n",
       "      <th>50%</th>\n",
       "      <td>74327.500000</td>\n",
       "      <td>65007.450000</td>\n",
       "      <td>0.000000</td>\n",
       "      <td>811.270000</td>\n",
       "      <td>28628.620000</td>\n",
       "      <td>71426.610000</td>\n",
       "      <td>92404.090000</td>\n",
       "      <td>2013.000000</td>\n",
       "      <td>NaN</td>\n",
       "      <td>NaN</td>\n",
       "    </tr>\n",
       "    <tr>\n",
       "      <th>75%</th>\n",
       "      <td>111490.750000</td>\n",
       "      <td>94691.050000</td>\n",
       "      <td>4658.175000</td>\n",
       "      <td>4236.065000</td>\n",
       "      <td>35566.855000</td>\n",
       "      <td>105839.135000</td>\n",
       "      <td>132876.450000</td>\n",
       "      <td>2014.000000</td>\n",
       "      <td>NaN</td>\n",
       "      <td>NaN</td>\n",
       "    </tr>\n",
       "    <tr>\n",
       "      <th>max</th>\n",
       "      <td>148654.000000</td>\n",
       "      <td>319275.010000</td>\n",
       "      <td>245131.880000</td>\n",
       "      <td>400184.250000</td>\n",
       "      <td>96570.660000</td>\n",
       "      <td>567595.430000</td>\n",
       "      <td>567595.430000</td>\n",
       "      <td>2014.000000</td>\n",
       "      <td>NaN</td>\n",
       "      <td>NaN</td>\n",
       "    </tr>\n",
       "  </tbody>\n",
       "</table>\n",
       "</div>"
      ],
      "text/plain": [
       "                  Id        BasePay    OvertimePay       OtherPay  \\\n",
       "count  148654.000000  148045.000000  148650.000000  148650.000000   \n",
       "mean    74327.500000   66325.448840    5066.059886    3648.767297   \n",
       "std     42912.857795   42764.635495   11454.380559    8056.601866   \n",
       "min         1.000000    -166.010000      -0.010000   -7058.590000   \n",
       "25%     37164.250000   33588.200000       0.000000       0.000000   \n",
       "50%     74327.500000   65007.450000       0.000000     811.270000   \n",
       "75%    111490.750000   94691.050000    4658.175000    4236.065000   \n",
       "max    148654.000000  319275.010000  245131.880000  400184.250000   \n",
       "\n",
       "            Benefits       TotalPay  TotalPayBenefits           Year  Notes  \\\n",
       "count  112491.000000  148654.000000     148654.000000  148654.000000    0.0   \n",
       "mean    25007.893151   74768.321972      93692.554811    2012.522643    NaN   \n",
       "std     15402.215858   50517.005274      62793.533483       1.117538    NaN   \n",
       "min       -33.890000    -618.130000       -618.130000    2011.000000    NaN   \n",
       "25%     11535.395000   36168.995000      44065.650000    2012.000000    NaN   \n",
       "50%     28628.620000   71426.610000      92404.090000    2013.000000    NaN   \n",
       "75%     35566.855000  105839.135000     132876.450000    2014.000000    NaN   \n",
       "max     96570.660000  567595.430000     567595.430000    2014.000000    NaN   \n",
       "\n",
       "       Status  \n",
       "count     0.0  \n",
       "mean      NaN  \n",
       "std       NaN  \n",
       "min       NaN  \n",
       "25%       NaN  \n",
       "50%       NaN  \n",
       "75%       NaN  \n",
       "max       NaN  "
      ]
     },
     "execution_count": 48,
     "metadata": {},
     "output_type": "execute_result"
    }
   ],
   "source": [
    "df.describe()"
   ]
  },
  {
   "cell_type": "code",
   "execution_count": 69,
   "metadata": {},
   "outputs": [],
   "source": [
    "proportion = {}\n",
    "\n",
    "grouped_df = df.groupby('Department').size()\n",
    "total_departments = len(df['Department'])\n",
    "\n",
    "for department, count in grouped_df.items():\n",
    "    proportion[department] = count / total_departments\n",
    "\n"
   ]
  },
  {
   "cell_type": "code",
   "execution_count": 70,
   "metadata": {},
   "outputs": [
    {
     "data": {
      "text/plain": [
       "{'CIVIL & CRIMINAL': 0.01031926487010104,\n",
       " 'FIRE DEPARTMENT': 0.0005247083832254766,\n",
       " 'MFCC': 0.0006054327498755499,\n",
       " 'POLICE DEPARTMENT': 0.004789645754571017,\n",
       " 'SEASONAL': 0.0007803355442840422,\n",
       " 'SFERS': 0.0004305299554670577,\n",
       " 'Unknown': 0.9825500827424758}"
      ]
     },
     "execution_count": 70,
     "metadata": {},
     "output_type": "execute_result"
    }
   ],
   "source": [
    "proportion"
   ]
  },
  {
   "cell_type": "code",
   "execution_count": null,
   "metadata": {},
   "outputs": [],
   "source": []
  }
 ],
 "metadata": {
  "colab": {
   "provenance": []
  },
  "kernelspec": {
   "display_name": "Python 3 (ipykernel)",
   "language": "python",
   "name": "python3"
  },
  "language_info": {
   "codemirror_mode": {
    "name": "ipython",
    "version": 3
   },
   "file_extension": ".py",
   "mimetype": "text/x-python",
   "name": "python",
   "nbconvert_exporter": "python",
   "pygments_lexer": "ipython3",
   "version": "3.9.5"
  }
 },
 "nbformat": 4,
 "nbformat_minor": 4
}
